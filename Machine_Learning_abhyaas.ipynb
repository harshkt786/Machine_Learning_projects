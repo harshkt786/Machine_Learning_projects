{
  "nbformat": 4,
  "nbformat_minor": 0,
  "metadata": {
    "colab": {
      "name": "Machine_Learning_abhyaas.ipynb",
      "version": "0.3.2",
      "provenance": [],
      "collapsed_sections": [],
      "include_colab_link": true
    },
    "kernelspec": {
      "name": "python3",
      "display_name": "Python 3"
    }
  },
  "cells": [
    {
      "cell_type": "markdown",
      "metadata": {
        "id": "view-in-github",
        "colab_type": "text"
      },
      "source": [
        "<a href=\"https://colab.research.google.com/github/harshkt786/Machine_Learning_projects/blob/master/Machine_Learning_abhyaas.ipynb\" target=\"_parent\"><img src=\"https://colab.research.google.com/assets/colab-badge.svg\" alt=\"Open In Colab\"/></a>"
      ]
    },
    {
      "metadata": {
        "id": "d9mvT-syCxUS",
        "colab_type": "code",
        "colab": {
          "base_uri": "https://localhost:8080/",
          "height": 34
        },
        "outputId": "e3f66e02-2f09-4fbd-9ca6-3ddd7c9669a9"
      },
      "cell_type": "code",
      "source": [
        "#simple training a DecisionTreeClassifier\n",
        "import pandas as pd\n",
        "from sklearn.tree import DecisionTreeClassifier\n",
        "music_data = pd.read_csv('/music.csv')\n",
        "x= music_data.drop(columns =['genre'])      #Divided the dataset in input and \n",
        "y= music_data['genre']                     #output set\n",
        "\n",
        "model = DecisionTreeClassifier()\n",
        "model.fit(x,y)\n",
        "prediction=model.predict([[21,1],[22,0]])\n",
        "prediction"
      ],
      "execution_count": 16,
      "outputs": [
        {
          "output_type": "execute_result",
          "data": {
            "text/plain": [
              "array(['HipHop', 'Dance'], dtype=object)"
            ]
          },
          "metadata": {
            "tags": []
          },
          "execution_count": 16
        }
      ]
    },
    {
      "metadata": {
        "id": "L0AqdAcNfMRR",
        "colab_type": "code",
        "colab": {
          "base_uri": "https://localhost:8080/",
          "height": 34
        },
        "outputId": "7904faf4-effa-4e91-bc7c-b7c2335ce9be"
      },
      "cell_type": "code",
      "source": [
        "#simple training a DecisionTreeClassifier and finding accuracy\n",
        "import pandas as pd\n",
        "from sklearn.tree import DecisionTreeClassifier\n",
        "from sklearn.model_selection import train_test_split\n",
        "from sklearn.metrics import accuracy_score\n",
        "\n",
        "music_data = pd.read_csv('/music.csv')\n",
        "x= music_data.drop(columns =['genre'])      #Divided the dataset in input and \n",
        "y= music_data['genre']                     #output set\n",
        "x_train, x_test, y_train, y_test = train_test_split(x, y, test_size= 0.2)\n",
        "\n",
        "model = DecisionTreeClassifier()\n",
        "model.fit(x_train, y_train)\n",
        "predictions = model.predict(x_test)\n",
        "score = accuracy_score(y_test, predictions)\n",
        "\n",
        "score"
      ],
      "execution_count": 29,
      "outputs": [
        {
          "output_type": "execute_result",
          "data": {
            "text/plain": [
              "1.0"
            ]
          },
          "metadata": {
            "tags": []
          },
          "execution_count": 29
        }
      ]
    },
    {
      "metadata": {
        "id": "tDu-vitvinix",
        "colab_type": "code",
        "colab": {
          "base_uri": "https://localhost:8080/",
          "height": 34
        },
        "outputId": "fa74a6c5-bef8-41a9-b5da-d9362f247905"
      },
      "cell_type": "code",
      "source": [
        "#saving our created model as joblib file. Persistance\n",
        "import pandas as pd\n",
        "from sklearn.tree import DecisionTreeClassifier\n",
        "from sklearn.externals import joblib\n",
        "\n",
        "music_data = pd.read_csv('/music.csv')\n",
        "x= music_data.drop(columns =['genre'])      #Divided the dataset in input and \n",
        "y= music_data['genre']                     #output set\n",
        "\n",
        "model = DecisionTreeClassifier()\n",
        "model.fit(x,y)\n",
        "joblib.dump(model, 'music-recommend-model.joblib')\n",
        "# prediction=model.predict([[21,1],[22,0]])\n",
        "# prediction"
      ],
      "execution_count": 30,
      "outputs": [
        {
          "output_type": "execute_result",
          "data": {
            "text/plain": [
              "['music-recommend-model.joblib']"
            ]
          },
          "metadata": {
            "tags": []
          },
          "execution_count": 30
        }
      ]
    },
    {
      "metadata": {
        "id": "tbuzCspCkvWq",
        "colab_type": "code",
        "colab": {}
      },
      "cell_type": "code",
      "source": [
        ""
      ],
      "execution_count": 0,
      "outputs": []
    },
    {
      "metadata": {
        "id": "EHSzAyCbjqCQ",
        "colab_type": "code",
        "colab": {
          "base_uri": "https://localhost:8080/",
          "height": 34
        },
        "outputId": "807335af-5b2d-4f62-f067-0d2bb905c48b"
      },
      "cell_type": "code",
      "source": [
        "#load saved model\n",
        "from sklearn.externals import joblib\n",
        "\n",
        "model = joblib.load('music-recommend-model.joblib')\n",
        "prediction=model.predict([[85,1],[22,0]])\n",
        "prediction"
      ],
      "execution_count": 33,
      "outputs": [
        {
          "output_type": "execute_result",
          "data": {
            "text/plain": [
              "array(['Classical', 'Dance'], dtype=object)"
            ]
          },
          "metadata": {
            "tags": []
          },
          "execution_count": 33
        }
      ]
    }
  ]
}